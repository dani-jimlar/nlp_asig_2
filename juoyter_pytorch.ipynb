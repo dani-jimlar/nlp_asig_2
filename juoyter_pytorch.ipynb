{
 "cells": [
  {
   "cell_type": "code",
   "execution_count": 72,
   "metadata": {},
   "outputs": [],
   "source": [
    "\"\"\"Pytorch.\"\"\"\n",
    "import nltk\n",
    "import numpy as np\n",
    "from numpy.typing import NDArray\n",
    "import torch\n",
    "from typing import List, Optional\n",
    "from torch import nn\n",
    "import matplotlib.pyplot as plt\n",
    "\n",
    "\n",
    "FloatArray = NDArray[np.float64]\n",
    "\n",
    "\n",
    "def onehot(vocabulary: List[Optional[str]], token: Optional[str]) -> FloatArray:\n",
    "    \"\"\"Generate the one-hot encoding for the provided token in the provided vocabulary.\"\"\"\n",
    "    embedding = np.zeros((len(vocabulary), 1))\n",
    "    try:\n",
    "        idx = vocabulary.index(token)\n",
    "    except ValueError:\n",
    "        idx = len(vocabulary) - 1\n",
    "    embedding[idx, 0] = 1\n",
    "    return embedding\n",
    "\n",
    "\n",
    "def logit(x: FloatArray) -> FloatArray:\n",
    "    \"\"\"Compute logit (inverse sigmoid).\"\"\"\n",
    "    return np.log(x) - np.log(1 - x)\n",
    "\n",
    "\n",
    "def normalize(x: torch.Tensor) -> torch.Tensor:\n",
    "    \"\"\"Normalize vector so that it sums to 1.\"\"\"\n",
    "    return x / torch.sum(x)\n",
    "\n",
    "\n",
    "def loss_fn(p: float) -> float:\n",
    "    \"\"\"Compute loss to maximize probability.\"\"\"\n",
    "    return -p\n",
    "\n",
    "\n",
    "class Unigram(nn.Module):\n",
    "    def __init__(self, V: int):\n",
    "        super().__init__()\n",
    "\n",
    "        # construct initial s - corresponds to uniform p\n",
    "        s0 = logit(np.ones((V, 1)) / V)\n",
    "        self.s = nn.Parameter(torch.tensor(s0.astype(\"float32\")))\n",
    "\n",
    "    def forward(self, input: torch.Tensor) -> torch.Tensor:\n",
    "        # convert s to proper distribution p\n",
    "        p = normalize(torch.sigmoid(self.s))\n",
    "\n",
    "        # compute log probability of input\n",
    "        return torch.sum(input, 1, keepdim=True).T @ torch.log(p), p"
   ]
  },
  {
   "cell_type": "code",
   "execution_count": 102,
   "metadata": {},
   "outputs": [],
   "source": [
    "def gradient_descent_example():\n",
    "    \"\"\"Demonstrate gradient descent.\"\"\"\n",
    "    # generate vocabulary\n",
    "    vocabulary = [chr(i + ord(\"a\")) for i in range(26)] + [\" \", None]\n",
    "\n",
    "    # generate training document\n",
    "    text = nltk.corpus.gutenberg.raw(\"austen-sense.txt\").lower()\n",
    "\n",
    "    # tokenize - split the document into a list of little strings\n",
    "    tokens = [char for char in text]\n",
    "\n",
    "    # generate one-hot encodings - a V-by-T array\n",
    "    encodings = np.hstack([onehot(vocabulary, token) for token in tokens])\n",
    "\n",
    "    # convert training data to PyTorch tensor\n",
    "    x = torch.tensor(encodings.astype(\"float32\"))\n",
    "\n",
    "    # define model\n",
    "\n",
    "    model = Unigram(len(vocabulary))\n",
    "\n",
    "    # set number of iterations and learning rate\n",
    "    num_iterations = 100\n",
    "    learning_rate = 0.1\n",
    "\n",
    "    # train model\n",
    "    optimizer = torch.optim.Adam(model.parameters(), lr=learning_rate)\n",
    "    list_loss = []\n",
    "    list_items = []\n",
    "    for i in range(num_iterations):\n",
    "        p_pred, p = model(x)\n",
    "        loss = -p_pred\n",
    "        loss.backward(retain_graph=True)\n",
    "        optimizer.step()\n",
    "        optimizer.zero_grad()\n",
    "        list_loss.append(i)\n",
    "        list_items.append(loss.item())\n",
    "    true_p = torch.sum(x, 1, keepdim=True) / len(text)\n",
    "    mm = -(torch.sum(x, 1, keepdim=True)).T @ torch.log(true_p)\n",
    "    min = mm.item()\n",
    "    plt.plot(list_loss, list_items)\n",
    "    plt.xlabel(\"iterations\")\n",
    "    plt.ylabel(\"loss\")\n",
    "    plt.title(\"Loss as a function of time \")\n",
    "    plt.axhline(y=min, color=\"red\", linestyle=\"--\", label=\"Minimum possible loss\")\n",
    "    plt.legend()\n",
    "    plt.show()\n",
    "    return p, true_p"
   ]
  },
  {
   "cell_type": "code",
   "execution_count": 103,
   "metadata": {},
   "outputs": [
    {
     "data": {
      "image/png": "[encoded data removed]",
      "text/plain": [
       "<Figure size 640x480 with 1 Axes>"
      ]
     },
     "metadata": {},
     "output_type": "display_data"
    },
    {
     "data": {
      "text/plain": [
       "(tensor([[0.0601],\n",
       "         [0.0119],\n",
       "         [0.0185],\n",
       "         [0.0332],\n",
       "         [0.0985],\n",
       "         [0.0182],\n",
       "         [0.0141],\n",
       "         [0.0479],\n",
       "         [0.0543],\n",
       "         [0.0014],\n",
       "         [0.0041],\n",
       "         [0.0307],\n",
       "         [0.0218],\n",
       "         [0.0571],\n",
       "         [0.0623],\n",
       "         [0.0119],\n",
       "         [0.0011],\n",
       "         [0.0494],\n",
       "         [0.0487],\n",
       "         [0.0667],\n",
       "         [0.0219],\n",
       "         [0.0085],\n",
       "         [0.0188],\n",
       "         [0.0013],\n",
       "         [0.0174],\n",
       "         [0.0008],\n",
       "         [0.1609],\n",
       "         [0.0582]], grad_fn=<DivBackward0>),\n",
       " tensor([[6.0096e-02],\n",
       "         [1.1795e-02],\n",
       "         [1.8488e-02],\n",
       "         [3.3168e-02],\n",
       "         [9.8970e-02],\n",
       "         [1.8167e-02],\n",
       "         [1.4193e-02],\n",
       "         [4.7939e-02],\n",
       "         [5.4269e-02],\n",
       "         [1.4086e-03],\n",
       "         [4.1306e-03],\n",
       "         [3.0650e-02],\n",
       "         [2.1718e-02],\n",
       "         [5.7121e-02],\n",
       "         [6.2427e-02],\n",
       "         [1.1806e-02],\n",
       "         [8.9744e-04],\n",
       "         [4.9398e-02],\n",
       "         [4.8694e-02],\n",
       "         [6.6855e-02],\n",
       "         [2.1867e-02],\n",
       "         [8.6907e-03],\n",
       "         [1.8803e-02],\n",
       "         [1.2481e-03],\n",
       "         [1.7352e-02],\n",
       "         [1.0252e-04],\n",
       "         [1.6154e-01],\n",
       "         [5.8209e-02]]))"
      ]
     },
     "execution_count": 103,
     "metadata": {},
     "output_type": "execute_result"
    }
   ],
   "source": [
    "gradient_descent_example()"
   ]
  },
  {
   "cell_type": "code",
   "execution_count": 80,
   "metadata": {},
   "outputs": [
    {
     "data": {
      "text/plain": [
       "27"
      ]
     },
     "execution_count": 80,
     "metadata": {},
     "output_type": "execute_result"
    }
   ],
   "source": [
    "2800 - 2773"
   ]
  },
  {
   "cell_type": "markdown",
   "metadata": {},
   "source": [
    "The final token probabilities - comapare this to the (known) opitmal probabilities"
   ]
  }
 ],
 "metadata": {
  "kernelspec": {
   "display_name": "base",
   "language": "python",
   "name": "python3"
  },
  "language_info": {
   "codemirror_mode": {
    "name": "ipython",
    "version": 3
   },
   "file_extension": ".py",
   "mimetype": "text/x-python",
   "name": "python",
   "nbconvert_exporter": "python",
   "pygments_lexer": "ipython3",
   "version": "3.11.5"
  },
  "orig_nbformat": 4
 },
 "nbformat": 4,
 "nbformat_minor": 2
}
